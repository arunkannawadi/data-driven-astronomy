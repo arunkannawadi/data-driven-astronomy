{
 "cells": [
  {
   "cell_type": "markdown",
   "metadata": {},
   "source": [
    "# Matchup\n",
    "\n",
    "Write a crossmatch function that crossmatches two catalogues within a maximum distance.\n",
    "It should return a list of matches and non-matches for the first catalogue against the second.\n",
    "\n",
    "The list of matches contains tuples of the first and second catalogue object IDs and their distance.\n",
    "The list of non-matches contains the unmatched object IDs from the first catalogue only.\n",
    "Both lists should be ordered by the first catalogue's IDs.\n",
    "\n",
    "The BSS and SuperCOSMOS catalogues will be given as input arguments, each in the format you’ve seen previously.\n",
    "The maximum distance is given in decimal degrees.\n",
    "\n",
    "Here's how crossmatch should work on our sample catalogues with a maximum distance of 40 arcseconds:\n",
    "\n",
    "```python\n",
    "bss_cat = import_bss()\n",
    "super_cat = import_super()\n",
    "max_dist = 40/3600\n",
    "matches, no_matches = crossmatch(bss_cat, super_cat, max_dist)\n",
    "print(matches[:3])\n",
    "print(no_matches[:3])\n",
    "print(len(no_matches))\n",
    "```\n",
    "\n",
    "```python\n",
    "[(1, 2, 0.00010988610938710059), (2, 4, 0.00076498459672424946), (3, 5, 0.00020863352870707666)]\n",
    "[5, 6, 11]\n",
    "9\n",
    "```\n",
    "\n",
    "Only 9 objects have no match. Let's try a 5 arcsecond maximum:\n",
    "\n",
    "```python\n",
    "bss_cat = import_bss()\n",
    "super_cat = import_super()\n",
    "max_dist = 5/3600\n",
    "matches, no_matches = crossmatch(bss_cat, super_cat, max_dist)\n",
    "print(matches[:3])\n",
    "print(no_matches[:3])\n",
    "print(len(no_matches))\n",
    "```\n",
    "\n",
    "```python\n",
    "[(1, 2, 0.00010988610938710059), (2, 4, 0.00076498459672424946), (3, 5, 0.00020863352870707666)]\n",
    "[5, 6, 11]\n",
    "40\n",
    "```\n",
    "\n",
    "Now 40 objects have no match with the tighter search radius."
   ]
  },
  {
   "cell_type": "code",
   "execution_count": 1,
   "metadata": {},
   "outputs": [
    {
     "name": "stderr",
     "output_type": "stream",
     "text": [
      "UsageError: unrecognized arguments: Suppress output\n",
      "UsageError: unrecognized arguments: Suppress output\n"
     ]
    }
   ],
   "source": [
    "%run 2d.ipynb\n",
    "\n",
    "def crossmatch(cat1, cat2, max_dist):\n",
    "  dat1 = np.array(cat1)[:,1:]\n",
    "  dat2 = np.array(cat2)[:,1:]\n",
    "  tree = cKDTree(dat2)\n",
    "  d2d, idx = tree.query(dat1, distance_upper_bound=max_dist*4) # allow 400% margin of error\n",
    "\n",
    "  dists = []\n",
    "  for id1, id2 in enumerate(idx):\n",
    "    if id2<len(dat2):\n",
    "      ra1, dec1 = dat1[id1]\n",
    "      ra2, dec2 = dat2[id2]\n",
    "      dist = angular_dist(ra1,dec1,ra2,dec2)\n",
    "      if dist<max_dist:\n",
    "        dists.append(dist)\n",
    "      else:\n",
    "        dists.append(5*dist)\n",
    "    else:\n",
    "      dists.append(10*max_dist)\n",
    "\n",
    "  dists = np.array(dists)\n",
    "\n",
    "  matches = list(zip(1+np.where(dists<=max_dist)[0], 1+idx[dists<=max_dist], dists[dists<=max_dist].tolist()))\n",
    "  no_matches = (1+np.where((idx==tree.n)|(dists>max_dist))[0]).tolist()\n",
    "  return matches, no_matches"
   ]
  },
  {
   "cell_type": "markdown",
   "metadata": {},
   "source": [
    "You can use this to test your function."
   ]
  },
  {
   "cell_type": "code",
   "execution_count": null,
   "metadata": {},
   "outputs": [],
   "source": [
    "bss_cat = import_bss()\n",
    "super_cat = import_super()\n",
    "\n",
    "# First example in the question\n",
    "max_dist = 40/3600\n",
    "matches, no_matches = crossmatch(bss_cat, super_cat, max_dist)\n",
    "print(matches[:3])\n",
    "print(no_matches[:3])\n",
    "print(len(no_matches))\n",
    "\n",
    "# Second example in the question\n",
    "max_dist = 5/3600\n",
    "matches, no_matches = crossmatch(bss_cat, super_cat, max_dist)\n",
    "print(matches[:3])\n",
    "print(no_matches[:3])\n",
    "print(len(no_matches))\n"
   ]
  },
  {
   "cell_type": "code",
   "execution_count": null,
   "metadata": {},
   "outputs": [],
   "source": []
  }
 ],
 "metadata": {
  "kernelspec": {
   "display_name": "Python 3.7.4 64-bit ('3.7.4')",
   "language": "python",
   "name": "python3"
  },
  "language_info": {
   "codemirror_mode": {
    "name": "ipython",
    "version": 3
   },
   "file_extension": ".py",
   "mimetype": "text/x-python",
   "name": "python",
   "nbconvert_exporter": "python",
   "pygments_lexer": "ipython3",
   "version": "3.7.4"
  },
  "orig_nbformat": 4,
  "vscode": {
   "interpreter": {
    "hash": "e8414d6690e65b79d3070eca6428729defcf8be5a854fdedca2e41289c636819"
   }
  }
 },
 "nbformat": 4,
 "nbformat_minor": 2
}
