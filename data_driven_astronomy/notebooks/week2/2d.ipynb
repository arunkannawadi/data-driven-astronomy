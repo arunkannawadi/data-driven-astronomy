{
 "cells": [
  {
   "cell_type": "markdown",
   "metadata": {},
   "source": [
    "# Cross-matching catalogues\n",
    "\n",
    "Before we can crossmatch our two catalogues we first have to import the raw data. Every astronomy catalogue tends to have its own unique format so we'll need to look at how to do this with each one individually.\n",
    "\n",
    "We'll look at the AT20G bright source sample survey first.\n",
    "The raw data we'll be using is the file `table2.dat` from [this page](http://cdsarc.u-strasbg.fr/viz-bin/Cat?J/MNRAS/384/775) in the VizieR archives, but we'll use the filename `bss.dat` from now on.\n",
    "\n",
    "Every catalogue in VizieR has a detailed README file that gives you the exact format of each table in the catalogue."
   ]
  },
  {
   "cell_type": "markdown",
   "metadata": {},
   "source": [
    "The full catalogue of bright radio sources contains 320 objects.\n",
    "The first few rows look like this (scroll right to see it all):\n",
    "\n",
    "```\n",
    " 1  00 04 35.65 -47 36 19.1   0.87 0.04 0.97 0.06  0.90 0.04                0.995 0.030            17.63 Q 1.F.11.C  PKS 0002-478\n",
    " 2  00 10 35.92 -30 27 48.3   0.74 0.03 0.72 0.04  0.63 0.03  0.315 0.009   0.419 0.013 1.19  La01 19.59 Q 1.F.11..  PKS 0008-307\n",
    " 3* 00 11 01.27 -26 12 33.1   0.64 0.07 0.82 0.07  0.69 0.03  0.210 0.006               1.096 Wr83 19.53 Q 4.F.44.C  PKS 0008-264\n",
    "```\n",
    "\n",
    "The catalogue is organised in *fixed-width* columns, with the format of the columns being:\n",
    "\n",
    "- **1**: Object catalogue ID number (sometimes with an asterisk)\n",
    "- **2-4**: Right ascension in HMS notation\n",
    "- **5-7**: Declination in DMS notation\n",
    "- **8-**: Other information, including spectral intensities\n",
    "\n",
    "We only need coordinates for crossmatching.\n",
    "We can load specific columns with the usecols argument in NumPy's `loadtxt` function:\n",
    "\n",
    "```python\n",
    "import numpy as np\n",
    "cat = np.loadtxt('bss.dat', usecols=range(1, 7))\n",
    "print(cat[0])\n",
    "```\n",
    "\n",
    "We've skipped the ID column, since the ID number is always the same as the row number."
   ]
  },
  {
   "cell_type": "markdown",
   "metadata": {},
   "source": [
    "**Fixed-width columns and `loadtxt`**\n",
    "\n",
    "`loadtxt` does not work for fixed-width columns if values are missing.\n",
    "Since there are no missing ID, RA and dec values it is fine for loading the first few columns of the BSS catalogue."
   ]
  },
  {
   "cell_type": "code",
   "execution_count": 7,
   "metadata": {},
   "outputs": [],
   "source": [
    "# Write your crossmatch function here.\n",
    "\n",
    "from scipy.spatial import cKDTree\n",
    "import numpy as np\n",
    "\n",
    "def import_bss():\n",
    "  dat = np.loadtxt('data/bss.dat', usecols=range(1,7))\n",
    "  ret = []\n",
    "  for idx, row in enumerate(dat):\n",
    "    hRA, mRA, sRA, hDEC, mDEC, sDEC = row\n",
    "    RA = hms2dec(hRA, mRA, sRA)\n",
    "    DEC = dms2dec(hDEC, mDEC, sDEC)\n",
    "    ret.append( (idx+1, RA, DEC) )\n",
    "\n",
    "  return ret\n",
    "\n",
    "def import_super():\n",
    "  dat = np.loadtxt('data/super.csv', delimiter=',', skiprows=1, usecols=[0,1])\n",
    "  ret = zip(np.linspace(1,len(dat), len(dat)), dat[:,0], dat[:,1])\n",
    "  return list(ret)\n",
    "\n",
    "def crossmatch(cat1, cat2, max_dist):\n",
    "  dat1 = np.array(cat1)[:,1:]\n",
    "  dat2 = np.array(cat2)[:,1:]\n",
    "  tree = cKDTree(dat2)\n",
    "  d2d, idx = tree.query(dat1, distance_upper_bound=max_dist*4) # allow 400% margin of error\n",
    "\n",
    "  dists = []\n",
    "  for id1, id2 in enumerate(idx):\n",
    "    if id2<len(dat2):\n",
    "      ra1, dec1 = dat1[id1]\n",
    "      ra2, dec2 = dat2[id2]\n",
    "      dist = angular_dist(ra1,dec1,ra2,dec2)\n",
    "      if dist<max_dist:\n",
    "        dists.append(dist)\n",
    "      else:\n",
    "        dists.append(5*dist)\n",
    "    else:\n",
    "      dists.append(10*max_dist)\n",
    "\n",
    "  dists = np.array(dists)\n",
    "\n",
    "  matches = list(zip(1+np.where(dists<=max_dist)[0], 1+idx[dists<=max_dist], dists[dists<=max_dist].tolist()))\n",
    "  no_matches = (1+np.where((idx==tree.n)|(dists>max_dist))[0]).tolist()\n",
    "  return matches, no_matches"
   ]
  },
  {
   "cell_type": "code",
   "execution_count": 8,
   "metadata": {},
   "outputs": [
    {
     "ename": "NameError",
     "evalue": "name 'hms2dec' is not defined",
     "output_type": "error",
     "traceback": [
      "\u001b[0;31m---------------------------------------------------------------------------\u001b[0m",
      "\u001b[0;31mNameError\u001b[0m                                 Traceback (most recent call last)",
      "\u001b[1;32m/Users/arunkannawadi/Desktop/code/data-driven-astronomy/data_driven_astronomy/2d.ipynb Cell 5\u001b[0m in \u001b[0;36m<cell line: 1>\u001b[0;34m()\u001b[0m\n\u001b[0;32m----> <a href='vscode-notebook-cell:/Users/arunkannawadi/Desktop/code/data-driven-astronomy/data_driven_astronomy/2d.ipynb#ch0000006?line=0'>1</a>\u001b[0m bss_cat \u001b[39m=\u001b[39m import_bss()\n\u001b[1;32m      <a href='vscode-notebook-cell:/Users/arunkannawadi/Desktop/code/data-driven-astronomy/data_driven_astronomy/2d.ipynb#ch0000006?line=1'>2</a>\u001b[0m super_cat \u001b[39m=\u001b[39m import_super()\n\u001b[1;32m      <a href='vscode-notebook-cell:/Users/arunkannawadi/Desktop/code/data-driven-astronomy/data_driven_astronomy/2d.ipynb#ch0000006?line=3'>4</a>\u001b[0m \u001b[39m# First example in the question\u001b[39;00m\n",
      "\u001b[1;32m/Users/arunkannawadi/Desktop/code/data-driven-astronomy/data_driven_astronomy/2d.ipynb Cell 5\u001b[0m in \u001b[0;36mimport_bss\u001b[0;34m()\u001b[0m\n\u001b[1;32m      <a href='vscode-notebook-cell:/Users/arunkannawadi/Desktop/code/data-driven-astronomy/data_driven_astronomy/2d.ipynb#ch0000006?line=8'>9</a>\u001b[0m \u001b[39mfor\u001b[39;00m idx, row \u001b[39min\u001b[39;00m \u001b[39menumerate\u001b[39m(dat):\n\u001b[1;32m     <a href='vscode-notebook-cell:/Users/arunkannawadi/Desktop/code/data-driven-astronomy/data_driven_astronomy/2d.ipynb#ch0000006?line=9'>10</a>\u001b[0m   hRA, mRA, sRA, hDEC, mDEC, sDEC \u001b[39m=\u001b[39m row\n\u001b[0;32m---> <a href='vscode-notebook-cell:/Users/arunkannawadi/Desktop/code/data-driven-astronomy/data_driven_astronomy/2d.ipynb#ch0000006?line=10'>11</a>\u001b[0m   RA \u001b[39m=\u001b[39m hms2dec(hRA, mRA, sRA)\n\u001b[1;32m     <a href='vscode-notebook-cell:/Users/arunkannawadi/Desktop/code/data-driven-astronomy/data_driven_astronomy/2d.ipynb#ch0000006?line=11'>12</a>\u001b[0m   DEC \u001b[39m=\u001b[39m dms2dec(hDEC, mDEC, sDEC)\n\u001b[1;32m     <a href='vscode-notebook-cell:/Users/arunkannawadi/Desktop/code/data-driven-astronomy/data_driven_astronomy/2d.ipynb#ch0000006?line=12'>13</a>\u001b[0m   ret\u001b[39m.\u001b[39mappend( (idx\u001b[39m+\u001b[39m\u001b[39m1\u001b[39m, RA, DEC) )\n",
      "\u001b[0;31mNameError\u001b[0m: name 'hms2dec' is not defined"
     ]
    }
   ],
   "source": [
    "bss_cat = import_bss()\n",
    "super_cat = import_super()\n",
    "\n",
    "# First example in the question\n",
    "max_dist = 40/3600\n",
    "matches, no_matches = crossmatch(bss_cat, super_cat, max_dist)\n",
    "print(matches[:3])\n",
    "print(no_matches[:3])\n",
    "print(len(no_matches))\n",
    "\n",
    "# Second example in the question\n",
    "max_dist = 5/3600\n",
    "matches, no_matches = crossmatch(bss_cat, super_cat, max_dist)\n",
    "print(matches[:3])\n",
    "print(no_matches[:3])\n",
    "print(len(no_matches))"
   ]
  },
  {
   "cell_type": "markdown",
   "metadata": {},
   "source": []
  }
 ],
 "metadata": {
  "kernelspec": {
   "display_name": "data-driven-astronomy",
   "language": "python",
   "name": "data-driven-astronomy"
  },
  "language_info": {
   "codemirror_mode": {
    "name": "ipython",
    "version": 3
   },
   "file_extension": ".py",
   "mimetype": "text/x-python",
   "name": "python",
   "nbconvert_exporter": "python",
   "pygments_lexer": "ipython3",
   "version": "3.8.5"
  },
  "orig_nbformat": 4
 },
 "nbformat": 4,
 "nbformat_minor": 2
}
