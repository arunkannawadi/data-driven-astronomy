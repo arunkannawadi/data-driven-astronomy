{
 "cells": [
  {
   "cell_type": "markdown",
   "metadata": {},
   "source": [
    "# Right ascension and Declination\n",
    "\n",
    "Right ascension is often given in hours-minutes-seconds (HMS) notation, because it was convenient to calculate when a star would appear over the horizon. A full circle in HMS notation is 24 hours, which means 1 hour in HMS notation is equal to 15 degrees.\n",
    "\n",
    "Each hour is split into 60 minutes and each minute into 60 seconds.\n",
    "\n",
    "You can convert 23 hours, 12 minutes and 6 seconds (written as 23:12:06 or `23h12m06s`) to degrees like this:\n",
    "\n",
    "```python\n",
    ">>> print(15*(23 + 12/60 + 6/(60*60)))\n",
    "348.025\n",
    "```\n",
    "​"
   ]
  },
  {
   "cell_type": "code",
   "execution_count": 1,
   "metadata": {},
   "outputs": [
    {
     "name": "stdout",
     "output_type": "stream",
     "text": [
      "348.025\n"
     ]
    }
   ],
   "source": [
    "print(15*(23 + 12/60 + 6/(60*60)))"
   ]
  },
  {
   "cell_type": "markdown",
   "metadata": {},
   "source": [
    "Declination, on the other hand, is traditionally recorded in degrees-minutes-seconds (DMS) notation. A full circle is 360 degrees, each degree has 60 arcminutes and each arcminute has 60 arcseconds.\n",
    "\n",
    "For example: 73 degrees, 21 arcminutes and 14.4 arcseconds (written 73:21:14.4 or 73° 21' 14.4\" or `73d21m14.4s`) can be converted to decimal degrees like this:\n",
    "\n",
    "```python\n",
    ">>> print(73 + 21/60 + 14.4/(60*60))\n",
    "73.354\n",
    "```\n",
    "​\n",
    "With negative angles like -5° 31' 12\" the negation applies to the whole angle, including arcminutes and arcseconds:\n",
    "\n",
    "```python\n",
    ">>> print(-1*(5 + 31/60 + 12/(60*60)))\n",
    "-5.52\n",
    "```\n"
   ]
  },
  {
   "cell_type": "markdown",
   "metadata": {},
   "source": [
    "**Note**: arcminutes and minutes are different!\n",
    "The arcminutes and arcseconds in DMS are not the same as the minutes and seconds in HMS! A minute in HMS is equal to 15 arcminutes in DMS and a second is equal to 15 arcseconds."
   ]
  },
  {
   "cell_type": "markdown",
   "metadata": {},
   "source": [
    "Write two functions, one that converts right ascension from HMS to decimal degrees, called `hms2dec`, and another that converts declination from DMS to decimal degrees, called `dms2dec`.\n",
    "\n",
    "Right ascension is always an angle from 0 to 24 hours and declination is always an angle from -90° to +90°.\n",
    "\n",
    "Your `hms2dec` function should work like this:\n",
    "\n",
    "```python\n",
    ">>> hms2dec(23, 12, 6)\n",
    "348.025\n",
    "```\n",
    "And your `dms2dec` function should work like this:\n",
    "\n",
    "```python\n",
    ">>> dms2dec(22, 57, 18)\n",
    "22.955\n",
    "```\n",
    "It should also work with negative angles:\n",
    "\n",
    "```python\n",
    ">>> dms2dec(-66, 5, 5.1)\n",
    "-66.08475\n",
    "```"
   ]
  },
  {
   "cell_type": "code",
   "execution_count": 3,
   "metadata": {},
   "outputs": [],
   "source": [
    "# Write your hms2dec and dms2dec functions here\n",
    "def hms2dec(h: float, m:float, s:float) -> float:\n",
    "    pass\n",
    "\n",
    "def dms2dec(d: float, m: float, s:float) -> float:\n",
    "    pass"
   ]
  },
  {
   "cell_type": "code",
   "execution_count": 4,
   "metadata": {},
   "outputs": [
    {
     "name": "stdout",
     "output_type": "stream",
     "text": [
      "348.025\n",
      "22.955\n",
      "-66.08475\n"
     ]
    }
   ],
   "source": [
    "# You can use this to test your function.\n",
    "# The first example from the question\n",
    "print(hms2dec(23, 12, 6))\n",
    "\n",
    "# The second example from the question\n",
    "print(dms2dec(22, 57, 18))\n",
    "\n",
    "# The third example from the question\n",
    "print(dms2dec(-66, 5, 5.1))"
   ]
  },
  {
   "cell_type": "markdown",
   "metadata": {},
   "source": [
    "Before we can crossmatch our two catalogues we first have to import the raw data. Every astronomy catalogue tends to have its own unique format so we'll need to look at how to do this with each one individually.\n",
    "\n",
    "We'll look at the AT20G bright source sample survey first. The raw data we'll be using is the file `table2.dat` from [this page](http://cdsarc.u-strasbg.fr/viz-bin/Cat?J/MNRAS/384/775) in the VizieR archives, but we'll use the filename `bss.dat` from now on.\n",
    "\n",
    "Every catalogue in VizieR has a detailed README file that gives you the exact format of each table in the catalogue."
   ]
  },
  {
   "cell_type": "markdown",
   "metadata": {},
   "source": [
    "The full catalogue of bright radio sources contains 320 objects. The first few rows look like this (scroll right to see it all):\n",
    "\n",
    "```\n",
    " 1  00 04 35.65 -47 36 19.1   0.87 0.04 0.97 0.06  0.90 0.04                0.995 0.030            17.63 Q 1.F.11.C  PKS 0002-478\n",
    " 2  00 10 35.92 -30 27 48.3   0.74 0.03 0.72 0.04  0.63 0.03  0.315 0.009   0.419 0.013 1.19  La01 19.59 Q 1.F.11..  PKS 0008-307\n",
    " 3* 00 11 01.27 -26 12 33.1   0.64 0.07 0.82 0.07  0.69 0.03  0.210 0.006               1.096 Wr83 19.53 Q 4.F.44.C  PKS 0008-264\n",
    "```\n",
    "\n",
    "The catalogue is organised in *fixed-width* columns, with the format of the columns being:\n",
    "\n",
    "- **1**: Object catalogue ID number (sometimes with an asterisk)\n",
    "- **2-4**: Right ascension in HMS notation\n",
    "- **5-7**: Declination in DMS notation\n",
    "- **8-**: Other information, including spectral intensities\n",
    "\n",
    "We only need coordinates for crossmatching. We can load specific columns with the usecols argument in NumPy's `loadtxt` function:\n",
    "\n",
    "```python\n",
    "import numpy as np\n",
    "cat = np.loadtxt('bss.dat', usecols=range(1, 7))\n",
    "print(cat[0])\n",
    "```\n",
    "\n",
    "We've skipped the ID column, since the ID number is always the same as the row number."
   ]
  },
  {
   "cell_type": "markdown",
   "metadata": {},
   "source": [
    "**Fixed-width columns and `loadtxt`**\n",
    "\n",
    "`loadtxt` does not work for fixed-width columns if values are missing. Since there are no missing ID, RA and dec values it is fine for loading the first few columns of the BSS catalogue."
   ]
  },
  {
   "cell_type": "code",
   "execution_count": 1,
   "metadata": {},
   "outputs": [],
   "source": [
    "# Write your crossmatch function here.\n",
    "from scipy.spatial import cKDTree\n",
    "import numpy as np\n",
    "\n",
    "def sign(d,m,s):\n",
    "  ret = -1 if d<0 or m<0 or s<0 else +1\n",
    "  return ret\n",
    "\n",
    "def hms2dec(h,m,s):\n",
    "  return 15*(h + m/60. + s/3600.)\n",
    "\n",
    "def dms2dec(d,m,s):\n",
    "  return sign(d,m,s)*(abs(d) + abs(m)/60. + abs(s)/3600.)\n",
    "\n",
    "def import_bss():\n",
    "  dat = np.loadtxt('../data/bss.dat', usecols=range(1,7))\n",
    "  ret = []\n",
    "  for idx, row in enumerate(dat):\n",
    "    hRA, mRA, sRA, hDEC, mDEC, sDEC = row\n",
    "    RA = hms2dec(hRA, mRA, sRA)\n",
    "    DEC = dms2dec(hDEC, mDEC, sDEC)\n",
    "    ret.append( (idx+1, RA, DEC) )\n",
    "\n",
    "  return ret\n",
    "\n",
    "def import_super():\n",
    "  dat = np.loadtxt('../data/super.csv', delimiter=',', skiprows=1, usecols=[0,1])\n",
    "  ret = zip(np.linspace(1,len(dat), len(dat)), dat[:,0], dat[:,1])\n",
    "  return list(ret)\n",
    "\n",
    "def angular_dist(ra1, dec1, ra2, dec2):\n",
    "  dalpha = np.abs(np.radians(ra1-ra2))\n",
    "  delta1 = np.radians(dec1)\n",
    "  delta2 = np.radians(dec2)\n",
    "\n",
    "  a = np.sin(0.5*np.abs(delta1-delta2))**2\n",
    "\n",
    "  b = np.cos(delta1)*np.cos(delta2)*(np.sin(0.5*dalpha)**2)\n",
    "\n",
    "  d = 2*np.arcsin(np.sqrt(a+b))\n",
    "\n",
    "  return np.degrees(d)\n",
    "\n",
    "def crossmatch(cat1, cat2, max_dist):\n",
    "  dat1 = np.array(cat1)[:,1:]\n",
    "  dat2 = np.array(cat2)[:,1:]\n",
    "  tree = cKDTree(dat2)\n",
    "  d2d, idx = tree.query(dat1, distance_upper_bound=max_dist*4) # allow 400% margin of error\n",
    "\n",
    "  dists = []\n",
    "  for id1, id2 in enumerate(idx):\n",
    "    if id2<len(dat2):\n",
    "      ra1, dec1 = dat1[id1]\n",
    "      ra2, dec2 = dat2[id2]\n",
    "      dist = angular_dist(ra1,dec1,ra2,dec2)\n",
    "      if dist<max_dist:\n",
    "        dists.append(dist)\n",
    "      else:\n",
    "        dists.append(5*dist)\n",
    "    else:\n",
    "      dists.append(10*max_dist)\n",
    "\n",
    "  dists = np.array(dists)\n",
    "\n",
    "  matches = list(zip(1+np.where(dists<=max_dist)[0], 1+idx[dists<=max_dist], dists[dists<=max_dist].tolist()))\n",
    "  no_matches = (1+np.where((idx==tree.n)|(dists>max_dist))[0]).tolist()\n",
    "  return matches, no_matches"
   ]
  },
  {
   "cell_type": "code",
   "execution_count": 2,
   "metadata": {},
   "outputs": [
    {
     "name": "stdout",
     "output_type": "stream",
     "text": [
      "[(1, 2, 0.00010988610938711933), (2, 4, 0.0007649845967243825), (3, 5, 0.00020863352870694596)]\n",
      "[5, 6, 11]\n",
      "9\n",
      "[(1, 2, 0.00010988610938711933), (2, 4, 0.0007649845967243825), (3, 5, 0.00020863352870694596)]\n",
      "[5, 6, 11]\n",
      "40\n"
     ]
    }
   ],
   "source": [
    "bss_cat = import_bss()\n",
    "super_cat = import_super()\n",
    "\n",
    "# First example in the question\n",
    "max_dist = 40/3600\n",
    "matches, no_matches = crossmatch(bss_cat, super_cat, max_dist)\n",
    "print(matches[:3])\n",
    "print(no_matches[:3])\n",
    "print(len(no_matches))\n",
    "\n",
    "# Second example in the question\n",
    "max_dist = 5/3600\n",
    "matches, no_matches = crossmatch(bss_cat, super_cat, max_dist)\n",
    "print(matches[:3])\n",
    "print(no_matches[:3])\n",
    "print(len(no_matches))\n"
   ]
  },
  {
   "cell_type": "code",
   "execution_count": null,
   "metadata": {},
   "outputs": [],
   "source": []
  }
 ],
 "metadata": {
  "kernelspec": {
   "display_name": "data-driven-astronomy",
   "language": "python",
   "name": "data-driven-astronomy"
  },
  "language_info": {
   "codemirror_mode": {
    "name": "ipython",
    "version": 3
   },
   "file_extension": ".py",
   "mimetype": "text/x-python",
   "name": "python",
   "nbconvert_exporter": "python",
   "pygments_lexer": "ipython3",
   "version": "3.8.5"
  },
  "orig_nbformat": 4
 },
 "nbformat": 4,
 "nbformat_minor": 2
}
