{
 "cells": [
  {
   "cell_type": "markdown",
   "metadata": {},
   "source": [
    "# Implementing angular distance calculator\n",
    "\n",
    "Write a function called `angular_dist` that calculates the angular distance between any two points on the celestial sphere given their right ascension and declination.\n",
    "\n",
    "Your function should **take arguments in decimal degrees and return the distance in decimal degrees** too.\n",
    "\n",
    "Here's an example of how your function should work:\n",
    "\n",
    "```python\n",
    ">>> ra1, dec1 = 21.07, 0.1\n",
    ">>> ra2, dec2 = 21.15, 8.2\n",
    ">>> angular_dist(ra1, dec1, ra2, dec2)\n",
    "8.1003923181465041\n",
    "```\n",
    "\n",
    "Here’s another example:\n",
    "\n",
    "```python\n",
    ">>> angular_dist(10.3, -3, 24.3, -29)\n",
    "29.208498180546595\n",
    "```"
   ]
  },
  {
   "cell_type": "code",
   "execution_count": null,
   "metadata": {},
   "outputs": [],
   "source": [
    "# Write your angular_dist function here.\n",
    "from typing import Sequence, Union\n",
    "import numpy as np\n",
    "\n",
    "def angular_dist(ra1: Union[float, Sequence],\n",
    "                 dec1: Union[float, Sequence],\n",
    "                 ra2: Union[float, Sequence],\n",
    "                 dec2: Union[float, Sequence]) -> Union[float, Sequence]:\n",
    "    pass"
   ]
  },
  {
   "cell_type": "markdown",
   "metadata": {},
   "source": [
    "You can use this to test your function."
   ]
  },
  {
   "cell_type": "code",
   "execution_count": null,
   "metadata": {},
   "outputs": [],
   "source": [
    "# Run your function with the first example in the question.\n",
    "print(angular_dist(21.07, 0.1, 21.15, 8.2))\n",
    "\n",
    "# Run your function with the second example in the question\n",
    "print(angular_dist(10.3, -3, 24.3, -29))"
   ]
  }
 ],
 "metadata": {
  "kernelspec": {
   "display_name": "data-driven-astronomy",
   "language": "python",
   "name": "data-driven-astronomy"
  },
  "language_info": {
   "name": "python",
   "version": "3.8.5"
  },
  "orig_nbformat": 4
 },
 "nbformat": 4,
 "nbformat_minor": 2
}
